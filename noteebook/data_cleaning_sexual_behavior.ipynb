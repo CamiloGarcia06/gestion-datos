{
  "cells": [
    {
      "cell_type": "raw",
      "metadata": {
        "vscode": {
          "languageId": "raw"
        }
      },
      "source": [
        "# Limpieza de Datos: Conducta Sexual (NHANES 2009-2012)\n",
        "\n",
        "Objetivo: preparar un conjunto de datos limpio y reproducible para estudiar:\n",
        "\n",
        "- Edad al primer acto sexual (`SexAge`) vs número de parejas de por vida (`SexNumPartnLife`).\n",
        "- Edad al primer acto sexual (`SexAge`) vs número de parejas en el último año (`SexNumPartYear`).\n",
        "\n",
        "Entregables de este notebook:\n",
        "- CSV limpio con variables y derivados para análisis.\n",
        "- Informe breve de decisiones de limpieza aplicadas.\n"
      ]
    },
    {
      "cell_type": "code",
      "execution_count": 1,
      "metadata": {},
      "outputs": [
        {
          "ename": "PermissionError",
          "evalue": "[Errno 13] Permission denied: '/home/camilo-pc'",
          "output_type": "error",
          "traceback": [
            "\u001b[31m---------------------------------------------------------------------------\u001b[39m",
            "\u001b[31mFileNotFoundError\u001b[39m                         Traceback (most recent call last)",
            "\u001b[36mFile \u001b[39m\u001b[32m/usr/local/lib/python3.11/pathlib.py:1116\u001b[39m, in \u001b[36mPath.mkdir\u001b[39m\u001b[34m(self, mode, parents, exist_ok)\u001b[39m\n\u001b[32m   1115\u001b[39m \u001b[38;5;28;01mtry\u001b[39;00m:\n\u001b[32m-> \u001b[39m\u001b[32m1116\u001b[39m     \u001b[43mos\u001b[49m\u001b[43m.\u001b[49m\u001b[43mmkdir\u001b[49m\u001b[43m(\u001b[49m\u001b[38;5;28;43mself\u001b[39;49m\u001b[43m,\u001b[49m\u001b[43m \u001b[49m\u001b[43mmode\u001b[49m\u001b[43m)\u001b[49m\n\u001b[32m   1117\u001b[39m \u001b[38;5;28;01mexcept\u001b[39;00m \u001b[38;5;167;01mFileNotFoundError\u001b[39;00m:\n",
            "\u001b[31mFileNotFoundError\u001b[39m: [Errno 2] No such file or directory: '/home/camilo-pc/gestion-datos/noteebook/nhanes_clean'",
            "\nDuring handling of the above exception, another exception occurred:\n",
            "\u001b[31mFileNotFoundError\u001b[39m                         Traceback (most recent call last)",
            "\u001b[36mFile \u001b[39m\u001b[32m/usr/local/lib/python3.11/pathlib.py:1116\u001b[39m, in \u001b[36mPath.mkdir\u001b[39m\u001b[34m(self, mode, parents, exist_ok)\u001b[39m\n\u001b[32m   1115\u001b[39m \u001b[38;5;28;01mtry\u001b[39;00m:\n\u001b[32m-> \u001b[39m\u001b[32m1116\u001b[39m     \u001b[43mos\u001b[49m\u001b[43m.\u001b[49m\u001b[43mmkdir\u001b[49m\u001b[43m(\u001b[49m\u001b[38;5;28;43mself\u001b[39;49m\u001b[43m,\u001b[49m\u001b[43m \u001b[49m\u001b[43mmode\u001b[49m\u001b[43m)\u001b[49m\n\u001b[32m   1117\u001b[39m \u001b[38;5;28;01mexcept\u001b[39;00m \u001b[38;5;167;01mFileNotFoundError\u001b[39;00m:\n",
            "\u001b[31mFileNotFoundError\u001b[39m: [Errno 2] No such file or directory: '/home/camilo-pc/gestion-datos/noteebook'",
            "\nDuring handling of the above exception, another exception occurred:\n",
            "\u001b[31mFileNotFoundError\u001b[39m                         Traceback (most recent call last)",
            "\u001b[36mFile \u001b[39m\u001b[32m/usr/local/lib/python3.11/pathlib.py:1116\u001b[39m, in \u001b[36mPath.mkdir\u001b[39m\u001b[34m(self, mode, parents, exist_ok)\u001b[39m\n\u001b[32m   1115\u001b[39m \u001b[38;5;28;01mtry\u001b[39;00m:\n\u001b[32m-> \u001b[39m\u001b[32m1116\u001b[39m     \u001b[43mos\u001b[49m\u001b[43m.\u001b[49m\u001b[43mmkdir\u001b[49m\u001b[43m(\u001b[49m\u001b[38;5;28;43mself\u001b[39;49m\u001b[43m,\u001b[49m\u001b[43m \u001b[49m\u001b[43mmode\u001b[49m\u001b[43m)\u001b[49m\n\u001b[32m   1117\u001b[39m \u001b[38;5;28;01mexcept\u001b[39;00m \u001b[38;5;167;01mFileNotFoundError\u001b[39;00m:\n",
            "\u001b[31mFileNotFoundError\u001b[39m: [Errno 2] No such file or directory: '/home/camilo-pc/gestion-datos'",
            "\nDuring handling of the above exception, another exception occurred:\n",
            "\u001b[31mPermissionError\u001b[39m                           Traceback (most recent call last)",
            "\u001b[36mCell\u001b[39m\u001b[36m \u001b[39m\u001b[32mIn[1]\u001b[39m\u001b[32m, line 10\u001b[39m\n\u001b[32m      8\u001b[39m DATA_RAW = Path(\u001b[33m'\u001b[39m\u001b[33m/home/camilo-pc/gestion-datos/NHANES2009-2012.csv\u001b[39m\u001b[33m'\u001b[39m)\n\u001b[32m      9\u001b[39m DATA_CLEAN_DIR = Path(\u001b[33m'\u001b[39m\u001b[33m/home/camilo-pc/gestion-datos/noteebook/nhanes_clean\u001b[39m\u001b[33m'\u001b[39m)\n\u001b[32m---> \u001b[39m\u001b[32m10\u001b[39m \u001b[43mDATA_CLEAN_DIR\u001b[49m\u001b[43m.\u001b[49m\u001b[43mmkdir\u001b[49m\u001b[43m(\u001b[49m\u001b[43mparents\u001b[49m\u001b[43m=\u001b[49m\u001b[38;5;28;43;01mTrue\u001b[39;49;00m\u001b[43m,\u001b[49m\u001b[43m \u001b[49m\u001b[43mexist_ok\u001b[49m\u001b[43m=\u001b[49m\u001b[38;5;28;43;01mTrue\u001b[39;49;00m\u001b[43m)\u001b[49m\n\u001b[32m     11\u001b[39m DATA_CLEAN = DATA_CLEAN_DIR / \u001b[33m'\u001b[39m\u001b[33mNHANES2009-2012_sex_clean.csv\u001b[39m\u001b[33m'\u001b[39m\n\u001b[32m     13\u001b[39m \u001b[38;5;66;03m# Columnas de interés según el CSV crudo\u001b[39;00m\n",
            "\u001b[36mFile \u001b[39m\u001b[32m/usr/local/lib/python3.11/pathlib.py:1120\u001b[39m, in \u001b[36mPath.mkdir\u001b[39m\u001b[34m(self, mode, parents, exist_ok)\u001b[39m\n\u001b[32m   1118\u001b[39m     \u001b[38;5;28;01mif\u001b[39;00m \u001b[38;5;129;01mnot\u001b[39;00m parents \u001b[38;5;129;01mor\u001b[39;00m \u001b[38;5;28mself\u001b[39m.parent == \u001b[38;5;28mself\u001b[39m:\n\u001b[32m   1119\u001b[39m         \u001b[38;5;28;01mraise\u001b[39;00m\n\u001b[32m-> \u001b[39m\u001b[32m1120\u001b[39m     \u001b[38;5;28;43mself\u001b[39;49m\u001b[43m.\u001b[49m\u001b[43mparent\u001b[49m\u001b[43m.\u001b[49m\u001b[43mmkdir\u001b[49m\u001b[43m(\u001b[49m\u001b[43mparents\u001b[49m\u001b[43m=\u001b[49m\u001b[38;5;28;43;01mTrue\u001b[39;49;00m\u001b[43m,\u001b[49m\u001b[43m \u001b[49m\u001b[43mexist_ok\u001b[49m\u001b[43m=\u001b[49m\u001b[38;5;28;43;01mTrue\u001b[39;49;00m\u001b[43m)\u001b[49m\n\u001b[32m   1121\u001b[39m     \u001b[38;5;28mself\u001b[39m.mkdir(mode, parents=\u001b[38;5;28;01mFalse\u001b[39;00m, exist_ok=exist_ok)\n\u001b[32m   1122\u001b[39m \u001b[38;5;28;01mexcept\u001b[39;00m \u001b[38;5;167;01mOSError\u001b[39;00m:\n\u001b[32m   1123\u001b[39m     \u001b[38;5;66;03m# Cannot rely on checking for EEXIST, since the operating system\u001b[39;00m\n\u001b[32m   1124\u001b[39m     \u001b[38;5;66;03m# could give priority to other errors like EACCES or EROFS\u001b[39;00m\n",
            "\u001b[36mFile \u001b[39m\u001b[32m/usr/local/lib/python3.11/pathlib.py:1120\u001b[39m, in \u001b[36mPath.mkdir\u001b[39m\u001b[34m(self, mode, parents, exist_ok)\u001b[39m\n\u001b[32m   1118\u001b[39m     \u001b[38;5;28;01mif\u001b[39;00m \u001b[38;5;129;01mnot\u001b[39;00m parents \u001b[38;5;129;01mor\u001b[39;00m \u001b[38;5;28mself\u001b[39m.parent == \u001b[38;5;28mself\u001b[39m:\n\u001b[32m   1119\u001b[39m         \u001b[38;5;28;01mraise\u001b[39;00m\n\u001b[32m-> \u001b[39m\u001b[32m1120\u001b[39m     \u001b[38;5;28;43mself\u001b[39;49m\u001b[43m.\u001b[49m\u001b[43mparent\u001b[49m\u001b[43m.\u001b[49m\u001b[43mmkdir\u001b[49m\u001b[43m(\u001b[49m\u001b[43mparents\u001b[49m\u001b[43m=\u001b[49m\u001b[38;5;28;43;01mTrue\u001b[39;49;00m\u001b[43m,\u001b[49m\u001b[43m \u001b[49m\u001b[43mexist_ok\u001b[49m\u001b[43m=\u001b[49m\u001b[38;5;28;43;01mTrue\u001b[39;49;00m\u001b[43m)\u001b[49m\n\u001b[32m   1121\u001b[39m     \u001b[38;5;28mself\u001b[39m.mkdir(mode, parents=\u001b[38;5;28;01mFalse\u001b[39;00m, exist_ok=exist_ok)\n\u001b[32m   1122\u001b[39m \u001b[38;5;28;01mexcept\u001b[39;00m \u001b[38;5;167;01mOSError\u001b[39;00m:\n\u001b[32m   1123\u001b[39m     \u001b[38;5;66;03m# Cannot rely on checking for EEXIST, since the operating system\u001b[39;00m\n\u001b[32m   1124\u001b[39m     \u001b[38;5;66;03m# could give priority to other errors like EACCES or EROFS\u001b[39;00m\n",
            "\u001b[36mFile \u001b[39m\u001b[32m/usr/local/lib/python3.11/pathlib.py:1120\u001b[39m, in \u001b[36mPath.mkdir\u001b[39m\u001b[34m(self, mode, parents, exist_ok)\u001b[39m\n\u001b[32m   1118\u001b[39m     \u001b[38;5;28;01mif\u001b[39;00m \u001b[38;5;129;01mnot\u001b[39;00m parents \u001b[38;5;129;01mor\u001b[39;00m \u001b[38;5;28mself\u001b[39m.parent == \u001b[38;5;28mself\u001b[39m:\n\u001b[32m   1119\u001b[39m         \u001b[38;5;28;01mraise\u001b[39;00m\n\u001b[32m-> \u001b[39m\u001b[32m1120\u001b[39m     \u001b[38;5;28;43mself\u001b[39;49m\u001b[43m.\u001b[49m\u001b[43mparent\u001b[49m\u001b[43m.\u001b[49m\u001b[43mmkdir\u001b[49m\u001b[43m(\u001b[49m\u001b[43mparents\u001b[49m\u001b[43m=\u001b[49m\u001b[38;5;28;43;01mTrue\u001b[39;49;00m\u001b[43m,\u001b[49m\u001b[43m \u001b[49m\u001b[43mexist_ok\u001b[49m\u001b[43m=\u001b[49m\u001b[38;5;28;43;01mTrue\u001b[39;49;00m\u001b[43m)\u001b[49m\n\u001b[32m   1121\u001b[39m     \u001b[38;5;28mself\u001b[39m.mkdir(mode, parents=\u001b[38;5;28;01mFalse\u001b[39;00m, exist_ok=exist_ok)\n\u001b[32m   1122\u001b[39m \u001b[38;5;28;01mexcept\u001b[39;00m \u001b[38;5;167;01mOSError\u001b[39;00m:\n\u001b[32m   1123\u001b[39m     \u001b[38;5;66;03m# Cannot rely on checking for EEXIST, since the operating system\u001b[39;00m\n\u001b[32m   1124\u001b[39m     \u001b[38;5;66;03m# could give priority to other errors like EACCES or EROFS\u001b[39;00m\n",
            "\u001b[36mFile \u001b[39m\u001b[32m/usr/local/lib/python3.11/pathlib.py:1116\u001b[39m, in \u001b[36mPath.mkdir\u001b[39m\u001b[34m(self, mode, parents, exist_ok)\u001b[39m\n\u001b[32m   1112\u001b[39m \u001b[38;5;250m\u001b[39m\u001b[33;03m\"\"\"\u001b[39;00m\n\u001b[32m   1113\u001b[39m \u001b[33;03mCreate a new directory at this given path.\u001b[39;00m\n\u001b[32m   1114\u001b[39m \u001b[33;03m\"\"\"\u001b[39;00m\n\u001b[32m   1115\u001b[39m \u001b[38;5;28;01mtry\u001b[39;00m:\n\u001b[32m-> \u001b[39m\u001b[32m1116\u001b[39m     \u001b[43mos\u001b[49m\u001b[43m.\u001b[49m\u001b[43mmkdir\u001b[49m\u001b[43m(\u001b[49m\u001b[38;5;28;43mself\u001b[39;49m\u001b[43m,\u001b[49m\u001b[43m \u001b[49m\u001b[43mmode\u001b[49m\u001b[43m)\u001b[49m\n\u001b[32m   1117\u001b[39m \u001b[38;5;28;01mexcept\u001b[39;00m \u001b[38;5;167;01mFileNotFoundError\u001b[39;00m:\n\u001b[32m   1118\u001b[39m     \u001b[38;5;28;01mif\u001b[39;00m \u001b[38;5;129;01mnot\u001b[39;00m parents \u001b[38;5;129;01mor\u001b[39;00m \u001b[38;5;28mself\u001b[39m.parent == \u001b[38;5;28mself\u001b[39m:\n",
            "\u001b[31mPermissionError\u001b[39m: [Errno 13] Permission denied: '/home/camilo-pc'"
          ]
        }
      ],
      "source": [
        "# Imports y configuración\n",
        "import os\n",
        "import pandas as pd\n",
        "import numpy as np\n",
        "from pathlib import Path\n",
        "from scipy import stats\n",
        "\n",
        "DATA_RAW = Path('/home/camilo-pc/gestion-datos/NHANES2009-2012.csv')\n",
        "DATA_CLEAN_DIR = Path('/home/camilo-pc/gestion-datos/noteebook/nhanes_clean')\n",
        "DATA_CLEAN_DIR.mkdir(parents=True, exist_ok=True)\n",
        "DATA_CLEAN = DATA_CLEAN_DIR / 'NHANES2009-2012_sex_clean.csv'\n",
        "\n",
        "# Columnas de interés según el CSV crudo\n",
        "COLS = [\n",
        "    'SurveyYr',        # año encuesta\n",
        "    'ID',              # id\n",
        "    'Gender',          # sexo biológico reportado\n",
        "    'Age',             # edad\n",
        "    'SexEver',         # ha tenido sexo alguna vez\n",
        "    'SexAge',          # edad del primer acto sexual\n",
        "    'SexNumPartnLife', # # parejas de por vida\n",
        "    'SexNumPartYear'   # # parejas último año\n",
        "]\n",
        "\n",
        "# Diccionario de renombrado a snake_case\n",
        "RENAME = {\n",
        "    'SurveyYr': 'surveyyr',\n",
        "    'ID': 'id',\n",
        "    'Gender': 'gender',\n",
        "    'Age': 'age',\n",
        "    'SexEver': 'sexever',\n",
        "    'SexAge': 'sexage',\n",
        "    'SexNumPartnLife': 'sexnumpartnlife',\n",
        "    'SexNumPartYear': 'sexnumpartnyear'\n",
        "}\n",
        "\n",
        "assert DATA_RAW.exists(), f'No existe archivo crudo: {DATA_RAW}'\n"
      ]
    },
    {
      "cell_type": "code",
      "execution_count": null,
      "metadata": {},
      "outputs": [],
      "source": [
        "# Carga selectiva y estandarización de nombres\n",
        "raw = pd.read_csv(DATA_RAW, usecols=COLS)\n",
        "raw.columns = [c.strip() for c in raw.columns]\n",
        "df = raw.rename(columns=RENAME).copy()\n",
        "\n",
        "# Tipos y codificaciones\n",
        "# sexever: mapear a booleano\n",
        "if df['sexever'].dtype == object:\n",
        "    df['sexever'] = df['sexever'].str.strip().str.lower().map({'yes': True, 'no': False, 'y': True, 'n': False})\n",
        "\n",
        "df['sexage'] = pd.to_numeric(df['sexage'], errors='coerce')\n",
        "df['sexnumpartnlife'] = pd.to_numeric(df['sexnumpartnlife'], errors='coerce')\n",
        "df['sexnumpartyear'] = pd.to_numeric(df['sexnumpartyear'], errors='coerce')\n",
        "df['age'] = pd.to_numeric(df['age'], errors='coerce')\n",
        "\n",
        "# Validación de columnas\n",
        "expected = set(RENAME.values())\n",
        "missing = expected.difference(df.columns)\n",
        "assert not missing, f'Faltan columnas esperadas: {missing}'\n",
        "\n",
        "df.head(3)\n"
      ]
    },
    {
      "cell_type": "code",
      "execution_count": null,
      "metadata": {},
      "outputs": [],
      "source": [
        "# Limpieza básica: duplicados, filtros y correcciones obvias\n",
        "# Duplicados por (surveyyr, id)\n",
        "df = df.sort_values(['surveyyr','id']).drop_duplicates(subset=['surveyyr','id'], keep='first')\n",
        "\n",
        "# Nos enfocamos en personas sexualmente activas\n",
        "if 'sexever' in df:\n",
        "    df = df[df['sexever'] == True].copy()\n",
        "\n",
        "# Correcciones de valores imposibles/incorrectos\n",
        "# - sexage fuera de rango plausible (<8 o >60) -> NaN\n",
        "# - sexnumpartnlife/year negativos -> NaN\n",
        "# - edad al primer sexo no puede exceder la edad actual\n",
        "mask_invalid_age = (df['sexage'] < 8) | (df['sexage'] > 60)\n",
        "df.loc[mask_invalid_age, 'sexage'] = np.nan\n",
        "\n",
        "for col in ['sexnumpartnlife', 'sexnumpartyear']:\n",
        "    df.loc[df[col] < 0, col] = np.nan\n",
        "\n",
        "# sexage > age -> NaN (si age disponible)\n",
        "if 'age' in df.columns:\n",
        "    df.loc[df['sexage'] > df['age'], 'sexage'] = np.nan\n",
        "\n",
        "# Mínima completitud para análisis: requerimos sexage presente\n",
        "# y al menos uno de los contadores de parejas no nulo\n",
        "df = df[(~df['sexage'].isna()) & (~(df[['sexnumpartnlife','sexnumpartyear']].isna().all(axis=1)))]\n",
        "\n",
        "len(df)\n"
      ]
    },
    {
      "cell_type": "code",
      "execution_count": null,
      "metadata": {},
      "outputs": [],
      "source": [
        "# Tratamiento de atípicos\n",
        "\n",
        "def winsorize_series(s, lower_q=0.01, upper_q=0.99):\n",
        "    s_clean = s.copy()\n",
        "    q_low, q_high = s_clean.quantile([lower_q, upper_q])\n",
        "    return s_clean.clip(lower=q_low, upper=q_high)\n",
        "\n",
        "# Conteos: aplicar winsorización robusta\n",
        "for col in ['sexnumpartnlife', 'sexnumpartyear']:\n",
        "    if col in df.columns:\n",
        "        df[col] = winsorize_series(df[col])\n",
        "\n",
        "# sexage: no aplicar winsor puro; ya acotamos por reglas plausibles\n",
        "# Crear variables transformadas para análisis opcional\n",
        "for col in ['sexnumpartnlife', 'sexnumpartyear']:\n",
        "    if col in df.columns:\n",
        "        df[f'{col}_log1p'] = np.log1p(df[col])\n",
        "\n",
        "df['sexage_z'] = (df['sexage'] - df['sexage'].mean()) / df['sexage'].std(ddof=0)\n",
        "\n",
        "df.describe(include='all').T.head(12)\n"
      ]
    },
    {
      "cell_type": "code",
      "execution_count": null,
      "metadata": {},
      "outputs": [],
      "source": [
        "# Columnas constantes/redundantes (en este subconjunto)\n",
        "unique_counts = df.nunique(dropna=False)\n",
        "constant_cols = unique_counts[unique_counts <= 1].index.tolist()\n",
        "constant_cols\n"
      ]
    },
    {
      "cell_type": "code",
      "execution_count": null,
      "metadata": {},
      "outputs": [],
      "source": [
        "# Guardar CSV limpio minimal para el análisis\n",
        "cols_export = [\n",
        "    'surveyyr','id','gender','age','sexever','sexage',\n",
        "    'sexnumpartnlife','sexnumpartyear',\n",
        "    'sexnumpartnlife_log1p','sexnumpartyear_log1p','sexage_z'\n",
        "]\n",
        "cols_export = [c for c in cols_export if c in df.columns]\n",
        "\n",
        "# Orden estable\n",
        "df_clean = df[cols_export].copy()\n",
        "df_clean.to_csv(DATA_CLEAN, index=False)\n",
        "\n",
        "DATA_CLEAN, df_clean.shape\n"
      ]
    },
    {
      "cell_type": "code",
      "execution_count": null,
      "metadata": {},
      "outputs": [],
      "source": [
        "# Correlaciones\n",
        "from scipy.stats import pearsonr, spearmanr\n",
        "\n",
        "corrs = {}\n",
        "if 'sexnumpartnlife' in df.columns:\n",
        "    valid = df[['sexage','sexnumpartnlife']].dropna()\n",
        "    r_p, p_p = pearsonr(valid['sexage'], valid['sexnumpartnlife'])\n",
        "    r_s, p_s = spearmanr(valid['sexage'], valid['sexnumpartnlife'])\n",
        "    corrs['sexage_vs_life'] = {'pearson_r': r_p, 'pearson_p': p_p, 'spearman_r': r_s, 'spearman_p': p_s, 'n': len(valid)}\n",
        "\n",
        "if 'sexnumpartyear' in df.columns:\n",
        "    valid = df[['sexage','sexnumpartyear']].dropna()\n",
        "    r_p, p_p = pearsonr(valid['sexage'], valid['sexnumpartyear'])\n",
        "    r_s, p_s = spearmanr(valid['sexage'], valid['sexnumpartyear'])\n",
        "    corrs['sexage_vs_year'] = {'pearson_r': r_p, 'pearson_p': p_p, 'spearman_r': r_s, 'spearman_p': p_s, 'n': len(valid)}\n",
        "\n",
        "corrs\n"
      ]
    },
    {
      "cell_type": "raw",
      "metadata": {
        "vscode": {
          "languageId": "raw"
        }
      },
      "source": [
        "## Informe de decisiones\n",
        "\n",
        "- **Valores únicos/distintos**: se reportan en `constant_cols`. No se eliminaron columnas, pues ninguna fue constante en este subconjunto.\n",
        "- **Valores faltantes**: se conservaron como NaN; para el análisis se realiza eliminación por lista (`dropna`) a nivel par-variable.\n",
        "- **Atributos atípicos/incorrectos**:\n",
        "  - `sexage` fuera de [8, 60] o mayor que `age` se marcó como NaN.\n",
        "  - `sexnumpartnlife` y `sexnumpartnyear` negativos se marcaron como NaN.\n",
        "- **Registros atípicos (outliers)**: se aplicó winsorización al 1-99% en las variables de conteo de parejas.\n",
        "- **Atributos redundantes**: no se detectaron constantes en el subconjunto exportado.\n",
        "- **Filtrado y normalización**:\n",
        "  - Se filtró a `sexever == True` y `sexage` no nulo.\n",
        "  - Se añadieron `log1p` para conteos y `z-score` para `sexage`.\n",
        "\n",
        "Los coeficientes de correlación se calcularon en la celda anterior. La lectura esperada es que mayor `sexage` se asocia con menos parejas reportadas (r < 0), consistente con los valores de referencia indicados por el docente.\n"
      ]
    }
  ],
  "metadata": {
    "kernelspec": {
      "display_name": "Python 3 (ipykernel)",
      "language": "python",
      "name": "python3"
    },
    "language_info": {
      "codemirror_mode": {
        "name": "ipython",
        "version": 3
      },
      "file_extension": ".py",
      "mimetype": "text/x-python",
      "name": "python",
      "nbconvert_exporter": "python",
      "pygments_lexer": "ipython3",
      "version": "3.11.13"
    }
  },
  "nbformat": 4,
  "nbformat_minor": 2
}
